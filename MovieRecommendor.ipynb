{
  "nbformat": 4,
  "nbformat_minor": 0,
  "metadata": {
    "colab": {
      "provenance": [],
      "authorship_tag": "ABX9TyNLJvR5aahp1AP/wXiBZWD0",
      "include_colab_link": true
    },
    "kernelspec": {
      "name": "python3",
      "display_name": "Python 3"
    },
    "language_info": {
      "name": "python"
    }
  },
  "cells": [
    {
      "cell_type": "markdown",
      "metadata": {
        "id": "view-in-github",
        "colab_type": "text"
      },
      "source": [
        "<a href=\"https://colab.research.google.com/github/krishnendu19802/MovieRecommendor/blob/main/MovieRecommendor.ipynb\" target=\"_parent\"><img src=\"https://colab.research.google.com/assets/colab-badge.svg\" alt=\"Open In Colab\"/></a>"
      ]
    },
    {
      "cell_type": "code",
      "execution_count": 1,
      "metadata": {
        "colab": {
          "base_uri": "https://localhost:8080/"
        },
        "id": "FuBWg_rHIqCf",
        "outputId": "0338e465-f4f4-4d97-db3b-391e0309740e"
      },
      "outputs": [
        {
          "output_type": "stream",
          "name": "stdout",
          "text": [
            "Collecting scikit-surprise\n",
            "  Downloading scikit_surprise-1.1.4.tar.gz (154 kB)\n",
            "\u001b[?25l     \u001b[90m━━━━━━━━━━━━━━━━━━━━━━━━━━━━━━━━━━━━━━━━\u001b[0m \u001b[32m0.0/154.4 kB\u001b[0m \u001b[31m?\u001b[0m eta \u001b[36m-:--:--\u001b[0m\r\u001b[2K     \u001b[90m━━━━━━━━━━━━━━━━━━━━━━━━━━━━━━━━━━━━━━━━\u001b[0m \u001b[32m154.4/154.4 kB\u001b[0m \u001b[31m6.5 MB/s\u001b[0m eta \u001b[36m0:00:00\u001b[0m\n",
            "\u001b[?25h  Installing build dependencies ... \u001b[?25l\u001b[?25hdone\n",
            "  Getting requirements to build wheel ... \u001b[?25l\u001b[?25hdone\n",
            "  Preparing metadata (pyproject.toml) ... \u001b[?25l\u001b[?25hdone\n",
            "Requirement already satisfied: pandas in /usr/local/lib/python3.10/dist-packages (2.2.2)\n",
            "Requirement already satisfied: joblib>=1.2.0 in /usr/local/lib/python3.10/dist-packages (from scikit-surprise) (1.4.2)\n",
            "Requirement already satisfied: numpy>=1.19.5 in /usr/local/lib/python3.10/dist-packages (from scikit-surprise) (1.26.4)\n",
            "Requirement already satisfied: scipy>=1.6.0 in /usr/local/lib/python3.10/dist-packages (from scikit-surprise) (1.13.1)\n",
            "Requirement already satisfied: python-dateutil>=2.8.2 in /usr/local/lib/python3.10/dist-packages (from pandas) (2.8.2)\n",
            "Requirement already satisfied: pytz>=2020.1 in /usr/local/lib/python3.10/dist-packages (from pandas) (2024.2)\n",
            "Requirement already satisfied: tzdata>=2022.7 in /usr/local/lib/python3.10/dist-packages (from pandas) (2024.2)\n",
            "Requirement already satisfied: six>=1.5 in /usr/local/lib/python3.10/dist-packages (from python-dateutil>=2.8.2->pandas) (1.16.0)\n",
            "Building wheels for collected packages: scikit-surprise\n",
            "  Building wheel for scikit-surprise (pyproject.toml) ... \u001b[?25l\u001b[?25hdone\n",
            "  Created wheel for scikit-surprise: filename=scikit_surprise-1.1.4-cp310-cp310-linux_x86_64.whl size=2357279 sha256=4472cd0b6fa46d68047c46e05186df5800333ac7cb3d6e568f196befe509f46d\n",
            "  Stored in directory: /root/.cache/pip/wheels/4b/3f/df/6acbf0a40397d9bf3ff97f582cc22fb9ce66adde75bc71fd54\n",
            "Successfully built scikit-surprise\n",
            "Installing collected packages: scikit-surprise\n",
            "Successfully installed scikit-surprise-1.1.4\n"
          ]
        }
      ],
      "source": [
        "pip install scikit-surprise pandas\n"
      ]
    },
    {
      "cell_type": "code",
      "source": [
        "import pandas as pd\n",
        "import zipfile\n",
        "import io\n",
        "import requests\n",
        "from surprise import Reader, Dataset, SVD\n",
        "from surprise.model_selection import train_test_split\n",
        "from surprise import accuracy\n",
        "from surprise.model_selection import cross_validate"
      ],
      "metadata": {
        "id": "idF5Qd0aKTYc"
      },
      "execution_count": 6,
      "outputs": []
    },
    {
      "cell_type": "code",
      "source": [
        "\n",
        "\n",
        "# URL for the MovieLens dataset\n",
        "url = \"https://files.grouplens.org/datasets/movielens/ml-latest-small.zip\"\n",
        "\n",
        "# Download the ZIP file\n",
        "response = requests.get(url)\n",
        "z = zipfile.ZipFile(io.BytesIO(response.content))\n",
        "\n",
        "# List files in the zip archive (to find the correct CSV file)\n",
        "print(z.namelist())\n",
        "\n",
        "# Extract and load the CSV file (the one we need is 'ratings.csv')\n",
        "with z.open('ml-latest-small/ratings.csv') as file:\n",
        "    movie_data = pd.read_csv(file, usecols=['userId', 'movieId', 'rating'])\n",
        "\n",
        "# Verify data loaded correctly\n",
        "print(movie_data.head())\n"
      ],
      "metadata": {
        "colab": {
          "base_uri": "https://localhost:8080/"
        },
        "id": "s-JqmT16JZSg",
        "outputId": "8c4cd65e-6557-4762-bba1-028547094a47"
      },
      "execution_count": 7,
      "outputs": [
        {
          "output_type": "stream",
          "name": "stdout",
          "text": [
            "['ml-latest-small/', 'ml-latest-small/links.csv', 'ml-latest-small/tags.csv', 'ml-latest-small/ratings.csv', 'ml-latest-small/README.txt', 'ml-latest-small/movies.csv']\n",
            "   userId  movieId  rating\n",
            "0       1        1     4.0\n",
            "1       1        3     4.0\n",
            "2       1        6     4.0\n",
            "3       1       47     5.0\n",
            "4       1       50     5.0\n"
          ]
        }
      ]
    },
    {
      "cell_type": "code",
      "source": [
        "\n",
        "\n",
        "\n",
        "reader = Reader(rating_scale=(1, 5))\n",
        "data = Dataset.load_from_df(movie_data[['userId', 'movieId', 'rating']], reader)\n",
        "\n",
        "# Train-test split\n",
        "trainset, testset = train_test_split(data, test_size=0.2)\n",
        "\n",
        "# Use the SVD algorithm for collaborative filtering\n",
        "model = SVD()\n",
        "\n",
        "# Train the model\n",
        "model.fit(trainset)\n",
        "\n",
        "# Make predictions on the test set\n",
        "predictions = model.test(testset)\n",
        "\n",
        "# Calculate and print the accuracy\n",
        "accuracy.rmse(predictions)\n",
        "\n",
        "# Cross-validation (optional)\n",
        "cross_validate(model, data, measures=['RMSE', 'MAE'], cv=5, verbose=True)\n",
        "\n",
        "# Function to get movie recommendations for a specific user\n",
        "def get_movie_recommendations(user_id, n=5):\n",
        "    all_movie_ids = movie_data['movieId'].unique()\n",
        "    watched_movie_ids = movie_data[movie_data['userId'] == user_id]['movieId'].unique()\n",
        "\n",
        "    # Find movies the user hasn't watched\n",
        "    unwatched_movie_ids = [movie_id for movie_id in all_movie_ids if movie_id not in watched_movie_ids]\n",
        "\n",
        "    # Predict ratings for unwatched movies\n",
        "    predictions = [model.predict(user_id, movie_id) for movie_id in unwatched_movie_ids]\n",
        "\n",
        "    # Sort by predicted rating\n",
        "    recommendations = sorted(predictions, key=lambda x: x.est, reverse=True)\n",
        "\n",
        "    # Return top 'n' movie recommendations\n",
        "    return recommendations[:n]\n",
        "\n",
        "# Get top 5 movie recommendations for a user\n",
        "user_id = 1  # Example user_id\n",
        "recommendations = get_movie_recommendations(user_id, n=5)\n",
        "\n",
        "# Print the recommendations\n",
        "for rec in recommendations:\n",
        "    print(f\"MovieID: {rec.iid}, Predicted Rating: {rec.est:.2f}\")\n"
      ],
      "metadata": {
        "colab": {
          "base_uri": "https://localhost:8080/"
        },
        "id": "OPoOYFxNIs0y",
        "outputId": "7ef91259-05d7-4e7a-b531-d381ee616cfe"
      },
      "execution_count": 8,
      "outputs": [
        {
          "output_type": "stream",
          "name": "stdout",
          "text": [
            "RMSE: 0.8733\n",
            "Evaluating RMSE, MAE of algorithm SVD on 5 split(s).\n",
            "\n",
            "                  Fold 1  Fold 2  Fold 3  Fold 4  Fold 5  Mean    Std     \n",
            "RMSE (testset)    0.8720  0.8732  0.8739  0.8782  0.8759  0.8746  0.0022  \n",
            "MAE (testset)     0.6708  0.6711  0.6712  0.6729  0.6733  0.6719  0.0010  \n",
            "Fit time          1.31    1.53    1.33    1.33    1.35    1.37    0.08    \n",
            "Test time         0.25    0.20    0.28    0.13    0.23    0.22    0.05    \n",
            "MovieID: 318, Predicted Rating: 5.00\n",
            "MovieID: 58559, Predicted Rating: 5.00\n",
            "MovieID: 898, Predicted Rating: 5.00\n",
            "MovieID: 899, Predicted Rating: 5.00\n",
            "MovieID: 908, Predicted Rating: 5.00\n"
          ]
        }
      ]
    },
    {
      "cell_type": "code",
      "source": [],
      "metadata": {
        "id": "nZIhdenMJNZr"
      },
      "execution_count": null,
      "outputs": []
    }
  ]
}